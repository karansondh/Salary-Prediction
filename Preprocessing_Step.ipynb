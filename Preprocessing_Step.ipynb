{
 "cells": [
  {
   "cell_type": "code",
   "execution_count": 11,
   "metadata": {},
   "outputs": [],
   "source": [
    "import pandas as pd\n",
    "import numpy as np"
   ]
  },
  {
   "cell_type": "code",
   "execution_count": 12,
   "metadata": {},
   "outputs": [
    {
     "name": "stdout",
     "output_type": "stream",
     "text": [
      "    Age  Gender Education Level          Job Title  Years of Experience  \\\n",
      "0  32.0    Male      Bachelor's  Software Engineer                  5.0   \n",
      "1  28.0  Female        Master's       Data Analyst                  3.0   \n",
      "2  45.0    Male             PhD     Senior Manager                 15.0   \n",
      "3  36.0  Female      Bachelor's    Sales Associate                  7.0   \n",
      "4  52.0    Male        Master's           Director                 20.0   \n",
      "\n",
      "     Salary Country      Race  \n",
      "0   90000.0      UK     White  \n",
      "1   65000.0     USA  Hispanic  \n",
      "2  150000.0  Canada     White  \n",
      "3   60000.0     USA  Hispanic  \n",
      "4  200000.0     USA     Asian  \n",
      "(6704, 8)\n",
      "Age                    2\n",
      "Gender                 2\n",
      "Education Level        3\n",
      "Job Title              2\n",
      "Years of Experience    3\n",
      "Salary                 5\n",
      "Country                0\n",
      "Race                   0\n",
      "dtype: int64\n"
     ]
    }
   ],
   "source": [
    "data = pd.read_csv(\"Dataset.csv\")\n",
    "\n",
    "# Dropping Index column\n",
    "data.drop(columns=['Unnamed: 0'], inplace=True)\n",
    "print(data.head())\n",
    "print(data.shape)\n",
    "\n",
    "# Dropping null values\n",
    "print(data.isnull().sum())\n",
    "data.dropna(axis=0, inplace=True)"
   ]
  },
  {
   "cell_type": "code",
   "execution_count": 13,
   "metadata": {},
   "outputs": [
    {
     "name": "stdout",
     "output_type": "stream",
     "text": [
      "USA          1359\n",
      "China        1343\n",
      "Australia    1336\n",
      "UK           1335\n",
      "Canada       1325\n",
      "Name: Country, dtype: int64\n"
     ]
    }
   ],
   "source": [
    "# Counting number of unique countries\n",
    "print(data[\"Country\"].value_counts())"
   ]
  },
  {
   "cell_type": "code",
   "execution_count": 14,
   "metadata": {},
   "outputs": [
    {
     "name": "stdout",
     "output_type": "stream",
     "text": [
      "       Age  Gender    Education Level              Job Title  \\\n",
      "0     32.0    Male         Bachelor's      Software Engineer   \n",
      "1     28.0  Female           Master's           Data Analyst   \n",
      "2     45.0    Male                PhD         Senior Manager   \n",
      "3     36.0  Female         Bachelor's        Sales Associate   \n",
      "4     52.0    Male           Master's               Director   \n",
      "...    ...     ...                ...                    ...   \n",
      "6699  49.0  Female                PhD  Director of Marketing   \n",
      "6700  32.0    Male        High School        Sales Associate   \n",
      "6701  30.0  Female  Bachelor's Degree      Financial Manager   \n",
      "6702  46.0    Male    Master's Degree      Marketing Manager   \n",
      "6703  26.0  Female        High School        Sales Executive   \n",
      "\n",
      "      Years of Experience  Salary (USD)        Race  \n",
      "0                     5.0       90000.0       White  \n",
      "1                     3.0       65000.0    Hispanic  \n",
      "2                    15.0      150000.0       White  \n",
      "3                     7.0       60000.0    Hispanic  \n",
      "4                    20.0      200000.0       Asian  \n",
      "...                   ...           ...         ...  \n",
      "6699                 20.0      200000.0       Mixed  \n",
      "6700                  3.0       50000.0  Australian  \n",
      "6701                  4.0       55000.0     Chinese  \n",
      "6702                 14.0      140000.0      Korean  \n",
      "6703                  1.0       35000.0       Black  \n",
      "\n",
      "[6698 rows x 7 columns]\n"
     ]
    }
   ],
   "source": [
    "# Renaming column\n",
    "data.rename(columns={'Salary' : 'Salary (USD)'}, inplace=True)\n",
    "\n",
    "# Dropping irrelevant columns\n",
    "data.drop(columns=[\"Country\"], inplace=True)\n",
    "print(data)"
   ]
  },
  {
   "cell_type": "code",
   "execution_count": 15,
   "metadata": {},
   "outputs": [
    {
     "name": "stdout",
     "output_type": "stream",
     "text": [
      "['Software Engineer' 'Data Analyst' 'Senior Manager' 'Sales Associate'\n",
      " 'Director' 'Marketing Analyst' 'Product Manager' 'Sales Manager'\n",
      " 'Marketing Coordinator' 'Senior Scientist' 'Software Developer'\n",
      " 'HR Manager' 'Financial Analyst' 'Project Manager' 'Customer Service Rep'\n",
      " 'Operations Manager' 'Marketing Manager' 'Senior Engineer'\n",
      " 'Data Entry Clerk' 'Sales Director' 'Business Analyst' 'VP of Operations'\n",
      " 'IT Support' 'Recruiter' 'Financial Manager' 'Social Media Specialist'\n",
      " 'Software Manager' 'Junior Developer' 'Senior Consultant'\n",
      " 'Product Designer' 'CEO' 'Accountant' 'Data Scientist'\n",
      " 'Marketing Specialist' 'Technical Writer' 'HR Generalist'\n",
      " 'Project Engineer' 'Customer Success Rep' 'Sales Executive' 'UX Designer'\n",
      " 'Operations Director' 'Network Engineer' 'Administrative Assistant'\n",
      " 'Strategy Consultant' 'Copywriter' 'Account Manager'\n",
      " 'Director of Marketing' 'Help Desk Analyst' 'Customer Service Manager'\n",
      " 'Business Intelligence Analyst' 'Event Coordinator' 'VP of Finance'\n",
      " 'Graphic Designer' 'UX Researcher' 'Social Media Manager'\n",
      " 'Director of Operations' 'Senior Data Scientist' 'Junior Accountant'\n",
      " 'Digital Marketing Manager' 'IT Manager'\n",
      " 'Customer Service Representative' 'Business Development Manager'\n",
      " 'Senior Financial Analyst' 'Web Developer' 'Research Director'\n",
      " 'Technical Support Specialist' 'Creative Director'\n",
      " 'Senior Software Engineer' 'Human Resources Director'\n",
      " 'Content Marketing Manager' 'Technical Recruiter' 'Sales Representative'\n",
      " 'Chief Technology Officer' 'Junior Designer' 'Financial Advisor'\n",
      " 'Junior Account Manager' 'Senior Project Manager' 'Principal Scientist'\n",
      " 'Supply Chain Manager' 'Senior Marketing Manager' 'Training Specialist'\n",
      " 'Research Scientist' 'Junior Software Developer'\n",
      " 'Public Relations Manager' 'Operations Analyst'\n",
      " 'Product Marketing Manager' 'Senior HR Manager' 'Junior Web Developer'\n",
      " 'Senior Project Coordinator' 'Chief Data Officer'\n",
      " 'Digital Content Producer' 'IT Support Specialist'\n",
      " 'Senior Marketing Analyst' 'Customer Success Manager'\n",
      " 'Senior Graphic Designer' 'Software Project Manager'\n",
      " 'Supply Chain Analyst' 'Senior Business Analyst'\n",
      " 'Junior Marketing Analyst' 'Office Manager' 'Principal Engineer'\n",
      " 'Junior HR Generalist' 'Senior Product Manager'\n",
      " 'Junior Operations Analyst' 'Senior HR Generalist'\n",
      " 'Sales Operations Manager' 'Senior Software Developer'\n",
      " 'Junior Web Designer' 'Senior Training Specialist'\n",
      " 'Senior Research Scientist' 'Junior Sales Representative'\n",
      " 'Junior Marketing Manager' 'Junior Data Analyst'\n",
      " 'Senior Product Marketing Manager' 'Junior Business Analyst'\n",
      " 'Senior Sales Manager' 'Junior Marketing Specialist'\n",
      " 'Junior Project Manager' 'Senior Accountant' 'Director of Sales'\n",
      " 'Junior Recruiter' 'Senior Business Development Manager'\n",
      " 'Senior Product Designer' 'Junior Customer Support Specialist'\n",
      " 'Senior IT Support Specialist' 'Junior Financial Analyst'\n",
      " 'Senior Operations Manager' 'Director of Human Resources'\n",
      " 'Junior Software Engineer' 'Senior Sales Representative'\n",
      " 'Director of Product Management' 'Junior Copywriter'\n",
      " 'Senior Marketing Coordinator' 'Senior Human Resources Manager'\n",
      " 'Junior Business Development Associate' 'Senior Account Manager'\n",
      " 'Senior Researcher' 'Junior HR Coordinator' 'Director of Finance'\n",
      " 'Junior Marketing Coordinator' 'Junior Data Scientist'\n",
      " 'Senior Operations Analyst' 'Senior Human Resources Coordinator'\n",
      " 'Senior UX Designer' 'Junior Product Manager'\n",
      " 'Senior Marketing Specialist' 'Senior IT Project Manager'\n",
      " 'Senior Quality Assurance Analyst' 'Director of Sales and Marketing'\n",
      " 'Senior Account Executive' 'Director of Business Development'\n",
      " 'Junior Social Media Manager' 'Senior Human Resources Specialist'\n",
      " 'Senior Data Analyst' 'Director of Human Capital'\n",
      " 'Junior Advertising Coordinator' 'Junior UX Designer'\n",
      " 'Senior Marketing Director' 'Senior IT Consultant'\n",
      " 'Senior Financial Advisor' 'Junior Business Operations Analyst'\n",
      " 'Junior Social Media Specialist' 'Senior Product Development Manager'\n",
      " 'Junior Operations Manager' 'Senior Software Architect'\n",
      " 'Junior Research Scientist' 'Senior Financial Manager'\n",
      " 'Senior HR Specialist' 'Senior Data Engineer'\n",
      " 'Junior Operations Coordinator' 'Director of HR'\n",
      " 'Senior Operations Coordinator' 'Junior Financial Advisor'\n",
      " 'Director of Engineering' 'Software Engineer Manager'\n",
      " 'Back end Developer' 'Senior Project Engineer' 'Full Stack Engineer'\n",
      " 'Front end Developer' 'Front End Developer' 'Director of Data Science'\n",
      " 'Human Resources Coordinator' 'Junior Sales Associate'\n",
      " 'Human Resources Manager' 'Juniour HR Generalist'\n",
      " 'Juniour HR Coordinator' 'Digital Marketing Specialist' 'Receptionist'\n",
      " 'Marketing Director' 'Social Media Man' 'Delivery Driver']\n"
     ]
    },
    {
     "data": {
      "text/plain": [
       "191"
      ]
     },
     "execution_count": 15,
     "metadata": {},
     "output_type": "execute_result"
    }
   ],
   "source": [
    "print(data[\"Job Title\"].unique())\n",
    "len(data[\"Job Title\"].unique())"
   ]
  },
  {
   "cell_type": "code",
   "execution_count": 16,
   "metadata": {},
   "outputs": [],
   "source": [
    "def categorize_job_title(job_title):\n",
    "    job_title = str(job_title).lower()\n",
    "    if 'software' in job_title or 'developer' in job_title:\n",
    "        return 'Software/Developer'\n",
    "    elif 'data' in job_title or 'analyst' in job_title or 'scientist' in job_title:\n",
    "        return 'Data Analyst/Scientist'\n",
    "    elif 'manager' in job_title or 'director' in job_title or 'vp' in job_title:\n",
    "        return 'Manager/Director/VP'\n",
    "    elif 'sales' in job_title or 'representative' in job_title:\n",
    "        return 'Sales'\n",
    "    elif 'marketing' in job_title or 'social media' in job_title:\n",
    "        return 'Marketing/Social Media'\n",
    "    elif 'product' in job_title or 'designer' in job_title:\n",
    "        return 'Product/Designer'\n",
    "    elif 'hr' in job_title or 'human resources' in job_title:\n",
    "        return 'HR/Human Resources'\n",
    "    elif 'financial' in job_title or 'accountant' in job_title:\n",
    "        return 'Financial/Accountant'\n",
    "    elif 'project manager' in job_title:\n",
    "        return 'Project Manager'\n",
    "    elif 'it' in job_title or 'support' in job_title:\n",
    "        return 'IT/Technical Support'\n",
    "    elif 'operations' in job_title or 'supply chain' in job_title:\n",
    "        return 'Operations/Supply Chain'\n",
    "    elif 'customer service' in job_title or 'receptionist' in job_title:\n",
    "        return 'Customer Service/Receptionist'\n",
    "    else:\n",
    "        return 'Other'\n",
    "data['Job Title'] = data['Job Title'].apply(categorize_job_title)"
   ]
  },
  {
   "cell_type": "code",
   "execution_count": 17,
   "metadata": {},
   "outputs": [
    {
     "name": "stdout",
     "output_type": "stream",
     "text": [
      "['Software/Developer' 'Data Analyst/Scientist' 'Manager/Director/VP'\n",
      " 'Sales' 'Marketing/Social Media' 'Customer Service/Receptionist' 'Other'\n",
      " 'IT/Technical Support' 'Product/Designer' 'Financial/Accountant'\n",
      " 'HR/Human Resources' 'Operations/Supply Chain']\n",
      "[\"Bachelor's\" \"Master's\" 'PhD' \"Bachelor's Degree\" \"Master's Degree\"\n",
      " 'High School' 'phD']\n",
      "Bachelor's Degree    2265\n",
      "Master's Degree      1572\n",
      "PhD                  1368\n",
      "Bachelor's            756\n",
      "High School           448\n",
      "Master's              288\n",
      "phD                     1\n",
      "Name: Education Level, dtype: int64\n"
     ]
    }
   ],
   "source": [
    "print(data[\"Job Title\"].unique())\n",
    "len(data[\"Job Title\"].unique())\n",
    "print(data[\"Education Level\"].unique())\n",
    "print(data[\"Education Level\"].value_counts())"
   ]
  },
  {
   "cell_type": "code",
   "execution_count": 18,
   "metadata": {},
   "outputs": [
    {
     "name": "stdout",
     "output_type": "stream",
     "text": [
      "Bachelors      3021\n",
      "Masters        1860\n",
      "PhD            1369\n",
      "High School     448\n",
      "Name: Education Level, dtype: int64\n"
     ]
    }
   ],
   "source": [
    "def group_education(Educaton):\n",
    "    Educaton = str(Educaton).lower()\n",
    "    if 'high school' in Educaton:\n",
    "        return 'High School'\n",
    "    elif 'bachelor\\'s' in Educaton or 'bachelor\\'s degree' in Educaton:\n",
    "        return 'Bachelors'\n",
    "    elif 'master\\'s' in Educaton or 'master\\'s degree' in Educaton:\n",
    "        return 'Masters'\n",
    "    elif 'phd' in Educaton:\n",
    "        return 'PhD'\n",
    "    \n",
    "data['Education Level'] = data['Education Level'].apply(group_education)\n",
    "print(data[\"Education Level\"].value_counts())\n"
   ]
  },
  {
   "cell_type": "code",
   "execution_count": 19,
   "metadata": {},
   "outputs": [],
   "source": [
    "data.to_csv('preprocessed_data.csv', index=False)"
   ]
  }
 ],
 "metadata": {
  "kernelspec": {
   "display_name": "base",
   "language": "python",
   "name": "python3"
  },
  "language_info": {
   "codemirror_mode": {
    "name": "ipython",
    "version": 3
   },
   "file_extension": ".py",
   "mimetype": "text/x-python",
   "name": "python",
   "nbconvert_exporter": "python",
   "pygments_lexer": "ipython3",
   "version": "3.11.3"
  }
 },
 "nbformat": 4,
 "nbformat_minor": 2
}
